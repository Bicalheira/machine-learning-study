{
 "cells": [
  {
   "cell_type": "markdown",
   "id": "ad52ae9a",
   "metadata": {},
   "source": [
    "# Criando Base de Dados"
   ]
  },
  {
   "cell_type": "code",
   "execution_count": 1,
   "id": "c2423199",
   "metadata": {},
   "outputs": [
    {
     "data": {
      "text/plain": [
       "array([53, 66, 43, 29, 57, 22, 35, 53, 33, 37, 25, 25, 38, 67, 50, 54, 38,\n",
       "       17, 36, 67, 16, 38, 58, 44, 52, 16, 35, 47, 26, 36, 58, 39, 63, 41,\n",
       "       56, 42, 30, 29, 61, 65])"
      ]
     },
     "execution_count": 1,
     "metadata": {},
     "output_type": "execute_result"
    }
   ],
   "source": [
    "import numpy as np\n",
    "import matplotlib.pyplot as plt\n",
    "\n",
    "np.random.seed(42)\n",
    "ages = np.random.randint(low=15, high=70, size=40)\n",
    "\n",
    "ages"
   ]
  },
  {
   "cell_type": "code",
   "execution_count": 2,
   "id": "30a6cbf8",
   "metadata": {},
   "outputs": [],
   "source": [
    "labels = []\n",
    "for age in ages:\n",
    "    if age < 30:\n",
    "        labels.append(0)\n",
    "    else:\n",
    "        labels.append(1)\n",
    "        \n",
    "#random swap\n",
    "for i in range(0, 3):\n",
    "    r = np.random.randint(0, len(labels) - 1)\n",
    "    if labels[r] == 0:\n",
    "        labels[r] = 1\n",
    "    else:\n",
    "        labels[r] = 0"
   ]
  },
  {
   "cell_type": "code",
   "execution_count": 3,
   "id": "3f17b9b9",
   "metadata": {},
   "outputs": [
    {
     "data": {
      "image/png": "[encoded data removed]",
      "text/plain": [
       "<Figure size 432x288 with 1 Axes>"
      ]
     },
     "metadata": {
      "needs_background": "light"
     },
     "output_type": "display_data"
    }
   ],
   "source": [
    "plt.scatter(ages, labels, color=\"red\")\n",
    "plt.show()"
   ]
  },
  {
   "cell_type": "code",
   "execution_count": 4,
   "id": "10c30cb4",
   "metadata": {},
   "outputs": [
    {
     "data": {
      "text/plain": [
       "LinearRegression()"
      ]
     },
     "execution_count": 4,
     "metadata": {},
     "output_type": "execute_result"
    }
   ],
   "source": [
    "from sklearn.linear_model import LinearRegression\n",
    "\n",
    "model = LinearRegression()\n",
    "model.fit(ages.reshape(-1, 1), labels)"
   ]
  },
  {
   "cell_type": "code",
   "execution_count": 5,
   "id": "95c4b24e",
   "metadata": {},
   "outputs": [
    {
     "data": {
      "text/plain": [
       "(0.02256675230371327, -0.2573944664850354)"
      ]
     },
     "execution_count": 5,
     "metadata": {},
     "output_type": "execute_result"
    }
   ],
   "source": [
    "# y = m * x + b\n",
    "\n",
    "m = model.coef_[0]\n",
    "b = model.intercept_\n",
    "\n",
    "m, b"
   ]
  },
  {
   "cell_type": "markdown",
   "id": "b6ae5efb",
   "metadata": {},
   "source": [
    "# Entendendo os Coeficientes da Reta"
   ]
  },
  {
   "cell_type": "code",
   "execution_count": 6,
   "id": "10864685",
   "metadata": {
    "scrolled": true
   },
   "outputs": [
    {
     "name": "stderr",
     "output_type": "stream",
     "text": [
      "MovieWriter Pillow unavailable; using Pillow instead.\n"
     ]
    },
    {
     "data": {
      "image/png": "[encoded data removed]",
      "text/plain": [
       "<Figure size 432x288 with 2 Axes>"
      ]
     },
     "metadata": {
      "needs_background": "light"
     },
     "output_type": "display_data"
    }
   ],
   "source": [
    "from matplotlib.animation import FuncAnimation\n",
    "\n",
    "fig, ax = plt.subplots()\n",
    "\n",
    "#markin the x-axis and y-axis\n",
    "axis = plt.axes(xlim = (0, 2), ylim = (-0.1, 2))\n",
    "\n",
    "#initializin a line variable\n",
    "line, = axis.plot([],[], lw = 3)\n",
    "\n",
    "#data which the line will\n",
    "#contain(x, y)\n",
    "def init():\n",
    "    line.set_data([],[])\n",
    "    return line,\n",
    "\n",
    "def animate(i):\n",
    "    m_copy = i * 0.01\n",
    "    plt.title('m = ' + str(m_copy))\n",
    "    \n",
    "    x = np.arange(0.0, 10.0, 0.1)\n",
    "    y = m_copy * x + b\n",
    "    line.set_data(x, y)\n",
    "    \n",
    "    return line,\n",
    "\n",
    "ani = FuncAnimation(fig, animate, init_func = init, frames = 200, interval = 20, blit = True)\n",
    "\n",
    "ani.save('m.gif', writer='Pillow',  fps = 30)"
   ]
  },
  {
   "cell_type": "code",
   "execution_count": 7,
   "id": "896fe432",
   "metadata": {},
   "outputs": [
    {
     "data": {
      "text/html": [
       "\n",
       "    <div align=\"middle\">\n",
       "        <img src=\"m.gif\">\n",
       "    <div>\n"
      ],
      "text/plain": [
       "<IPython.core.display.HTML object>"
      ]
     },
     "execution_count": 7,
     "metadata": {},
     "output_type": "execute_result"
    }
   ],
   "source": [
    "from IPython.display import HTML\n",
    "\n",
    "HTML(\"\"\"\n",
    "    <div align=\"middle\">\n",
    "        <img src=\"m.gif\">\n",
    "    <div>\n",
    "\"\"\")"
   ]
  },
  {
   "cell_type": "code",
   "execution_count": 8,
   "id": "0fc1e9d8",
   "metadata": {},
   "outputs": [
    {
     "name": "stderr",
     "output_type": "stream",
     "text": [
      "MovieWriter Pillow unavailable; using Pillow instead.\n"
     ]
    },
    {
     "data": {
      "image/png": "[encoded data removed]",
      "text/plain": [
       "<Figure size 432x288 with 2 Axes>"
      ]
     },
     "metadata": {
      "needs_background": "light"
     },
     "output_type": "display_data"
    }
   ],
   "source": [
    "from matplotlib.animation import FuncAnimation\n",
    "\n",
    "fig, ax = plt.subplots()\n",
    "\n",
    "#markin the x-axis and y-axis\n",
    "axis = plt.axes(xlim = (0, 2), ylim = (-0.1, 2))\n",
    "\n",
    "#initializin a line variable\n",
    "line, = axis.plot([],[], lw = 3)\n",
    "\n",
    "#data which the line will\n",
    "#contain(x, y)\n",
    "def init():\n",
    "    line.set_data([],[])\n",
    "    return line,\n",
    "\n",
    "def animate(i):\n",
    "    b_copy = i * 0.01\n",
    "    plt.title('b = ' + str(b_copy))\n",
    "    \n",
    "    x = np.arange(0.0, 10.0, 0.1)\n",
    "    y = m * x + b_copy\n",
    "    line.set_data(x, y)\n",
    "    \n",
    "    return line,\n",
    "\n",
    "ani = FuncAnimation(fig, animate, init_func = init, frames = 200, interval = 20, blit = True)\n",
    "\n",
    "ani.save('b.gif', writer='Pillow',  fps = 30)"
   ]
  },
  {
   "cell_type": "code",
   "execution_count": 1,
   "id": "f1a437ba",
   "metadata": {},
   "outputs": [
    {
     "data": {
      "text/html": [
       "\n",
       "    <div align=\"middle\">\n",
       "        <img src=\"b.gif\">\n",
       "    <div>\n"
      ],
      "text/plain": [
       "<IPython.core.display.HTML object>"
      ]
     },
     "execution_count": 1,
     "metadata": {},
     "output_type": "execute_result"
    }
   ],
   "source": [
    "from IPython.display import HTML\n",
    "\n",
    "HTML(\"\"\"\n",
    "    <div align=\"middle\">\n",
    "        <img src=\"b.gif\">\n",
    "    <div>\n",
    "\"\"\")"
   ]
  },
  {
   "cell_type": "markdown",
   "id": "2fd87f5c",
   "metadata": {},
   "source": [
    "# Regressão Linear daquele Conjunto de Pontos"
   ]
  },
  {
   "cell_type": "code",
   "execution_count": 12,
   "id": "039f75ef",
   "metadata": {},
   "outputs": [
    {
     "name": "stdout",
     "output_type": "stream",
     "text": [
      "33.56240438551759\n"
     ]
    },
    {
     "data": {
      "image/png": "[encoded data removed]",
      "text/plain": [
       "<Figure size 432x288 with 1 Axes>"
      ]
     },
     "metadata": {
      "needs_background": "light"
     },
     "output_type": "display_data"
    }
   ],
   "source": [
    "# y = m * x + b\n",
    "# 0.5 - b = m * x\n",
    "# (0.5 - b) / m = x\n",
    "\n",
    "limiar_idade = (0.5 - b) / m\n",
    "\n",
    "print(limiar_idade)\n",
    "\n",
    "plt.plot(ages, ages * m + b, color = \"blue\")\n",
    "\n",
    "plt.plot([limiar_idade, limiar_idade], [0, 0.5], \"--\", color = \"green\")\n",
    "\n",
    "plt.scatter(ages, labels, color = \"red\")\n",
    "\n",
    "plt.show()"
   ]
  },
  {
   "cell_type": "markdown",
   "id": "1a5e121b",
   "metadata": {},
   "source": [
    " # Função Logística"
   ]
  },
  {
   "cell_type": "code",
   "execution_count": 18,
   "id": "17c93b48",
   "metadata": {},
   "outputs": [
    {
     "data": {
      "image/png": "[encoded data removed]",
      "text/plain": [
       "<Figure size 432x288 with 1 Axes>"
      ]
     },
     "metadata": {
      "needs_background": "light"
     },
     "output_type": "display_data"
    }
   ],
   "source": [
    "import math\n",
    "\n",
    "def sigmoid(x):\n",
    "    a = []\n",
    "    for item in x:\n",
    "        a.append(1 / (1 + math.exp(-item)))\n",
    "    return a\n",
    "    \n",
    "x = np.arange(-10, 10.0, 0.2)\n",
    "\n",
    "sig = sigmoid(x)\n",
    "\n",
    "plt.plot(x, sig)\n",
    "plt.show()"
   ]
  },
  {
   "cell_type": "markdown",
   "id": "202a2a1c",
   "metadata": {},
   "source": [
    "# Classificador Sigmoíde"
   ]
  },
  {
   "cell_type": "code",
   "execution_count": 24,
   "id": "2addc43b",
   "metadata": {},
   "outputs": [
    {
     "data": {
      "image/png": "[encoded data removed]",
      "text/plain": [
       "<Figure size 432x288 with 1 Axes>"
      ]
     },
     "metadata": {
      "needs_background": "light"
     },
     "output_type": "display_data"
    }
   ],
   "source": [
    "from sklearn.linear_model import LogisticRegression\n",
    "\n",
    "model = LogisticRegression()\n",
    "model.fit(ages.reshape(-1, 1), labels)\n",
    "\n",
    "# y = m * x + b\n",
    "m = model.coef_[0]\n",
    "b = model.intercept_[0]\n",
    "\n",
    "x = np.arange(0, 70, 0.1)\n",
    "sig =  sigmoid(m * x + b)\n",
    "\n",
    "limiar_idade = abs(b / m)\n",
    "\n",
    "plt.scatter(ages, labels, color = \"red\")\n",
    "plt.plot([limiar_idade, limiar_idade], [0, 0.5], \"--\", color = \"green\")\n",
    "plt.plot(x, sig)\n",
    "plt.show()"
   ]
  },
  {
   "cell_type": "code",
   "execution_count": null,
   "id": "b7a4db85",
   "metadata": {},
   "outputs": [],
   "source": []
  }
 ],
 "metadata": {
  "kernelspec": {
   "display_name": "Python 3 (ipykernel)",
   "language": "python",
   "name": "python3"
  },
  "language_info": {
   "codemirror_mode": {
    "name": "ipython",
    "version": 3
   },
   "file_extension": ".py",
   "mimetype": "text/x-python",
   "name": "python",
   "nbconvert_exporter": "python",
   "pygments_lexer": "ipython3",
   "version": "3.9.7"
  }
 },
 "nbformat": 4,
 "nbformat_minor": 5
}
